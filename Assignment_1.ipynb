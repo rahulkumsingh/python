{
  "nbformat": 4,
  "nbformat_minor": 0,
  "metadata": {
    "colab": {
      "provenance": [],
      "authorship_tag": "ABX9TyMsrQfnI44/v2ZeKjDL5GZa",
      "include_colab_link": true
    },
    "kernelspec": {
      "name": "python3",
      "display_name": "Python 3"
    },
    "language_info": {
      "name": "python"
    }
  },
  "cells": [
    {
      "cell_type": "markdown",
      "metadata": {
        "id": "view-in-github",
        "colab_type": "text"
      },
      "source": [
        "<a href=\"https://colab.research.google.com/github/rahulkumsingh/python/blob/main/Assignment_1.ipynb\" target=\"_parent\"><img src=\"https://colab.research.google.com/assets/colab-badge.svg\" alt=\"Open In Colab\"/></a>"
      ]
    },
    {
      "cell_type": "code",
      "execution_count": null,
      "metadata": {
        "colab": {
          "base_uri": "https://localhost:8080/"
        },
        "id": "h_aA7Ujc5Puy",
        "outputId": "15ab9dca-d881-4b11-fa1e-b1aac6fe0b13"
      },
      "outputs": [
        {
          "output_type": "stream",
          "name": "stdout",
          "text": [
            "Enter the number30\n",
            "3\tFizz\n",
            "5\tFuzz\n",
            "6\tFizz\n",
            "9\tFizz\n",
            "10\tFuzz\n",
            "12\tFizz\n",
            "15\tFizz Buzz\n",
            "18\tFizz\n",
            "20\tFuzz\n",
            "21\tFizz\n",
            "24\tFizz\n",
            "25\tFuzz\n",
            "27\tFizz\n"
          ]
        }
      ],
      "source": [
        "num = int(input(\"Enter the number\"))\n",
        "\n",
        "for i in range(1,num):\n",
        "  if i%3 == 0 and i%5 == 0:\n",
        "    print(i, end='\\t')\n",
        "    print(\"Fizz Buzz\")\n",
        "    continue\n",
        "  elif i%3 == 0:\n",
        "    print(i, end='\\t')\n",
        "    print(\"Fizz\")\n",
        "    continue\n",
        "  elif i%5 == 0:\n",
        "    print(i, end='\\t')\n",
        "    print(\"Fuzz\")\n",
        "    continue"
      ]
    }
  ]
}